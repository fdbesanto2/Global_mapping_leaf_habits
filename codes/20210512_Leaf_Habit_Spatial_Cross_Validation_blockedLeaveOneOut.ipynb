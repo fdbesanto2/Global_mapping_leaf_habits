{
 "cells": [
  {
   "cell_type": "markdown",
   "metadata": {},
   "source": [
    "## 1. Load the libraries for calculation"
   ]
  },
  {
   "cell_type": "code",
   "execution_count": 1,
   "metadata": {},
   "outputs": [],
   "source": [
    "# Import the modules of interest\n",
    "import pandas as pd\n",
    "import geopandas as gpd\n",
    "import ee\n",
    "from sklearn.metrics import r2_score\n",
    "from termcolor import colored # this is allocate colour and fonts type for the print title and text\n",
    "from IPython.display import display, HTML"
   ]
  },
  {
   "cell_type": "code",
   "execution_count": 2,
   "metadata": {},
   "outputs": [],
   "source": [
    "# Intialize the ee API connection\n",
    "ee.Initialize()"
   ]
  },
  {
   "cell_type": "markdown",
   "metadata": {},
   "source": [
    "## 2. Prepare the composite for calculation"
   ]
  },
  {
   "cell_type": "code",
   "execution_count": 3,
   "metadata": {},
   "outputs": [],
   "source": [
    "# Define the vectors of predictors\n",
    "predictorVector = ['Aridity_Index',\n",
    "                   'CHELSA_Annual_Mean_Temperature',\n",
    "                   'CHELSA_Annual_Precipitation',\n",
    "                   'CHELSA_Isothermality',\n",
    "                   'CHELSA_Max_Temperature_of_Warmest_Month',\n",
    "                   'CHELSA_Mean_Diurnal_Range',\n",
    "                   'CHELSA_Mean_Temperature_of_Coldest_Quarter',\n",
    "                   'CHELSA_Mean_Temperature_of_Driest_Quarter',\n",
    "                   'CHELSA_Mean_Temperature_of_Warmest_Quarter',\n",
    "                   'CHELSA_Mean_Temperature_of_Wettest_Quarter',\n",
    "                   'CHELSA_Min_Temperature_of_Coldest_Month',\n",
    "                   'CHELSA_Precipitation_Seasonality',\n",
    "                   'CHELSA_Precipitation_of_Coldest_Quarter',\n",
    "                   'CHELSA_Precipitation_of_Driest_Month',\n",
    "                   'CHELSA_Precipitation_of_Driest_Quarter',\n",
    "                   'CHELSA_Precipitation_of_Warmest_Quarter',\n",
    "                   'CHELSA_Precipitation_of_Wettest_Month',\n",
    "                   'CHELSA_Precipitation_of_Wettest_Quarter',\n",
    "                   'CHELSA_Temperature_Annual_Range',\n",
    "                   'CHELSA_Temperature_Seasonality',\n",
    "                   'Depth_to_Water_Table',\n",
    "                   'EarthEnvTopoMed_Eastness',\n",
    "                   'EarthEnvTopoMed_Elevation',\n",
    "                   'EarthEnvTopoMed_Northness',\n",
    "                   'EarthEnvTopoMed_ProfileCurvature',\n",
    "                   'EarthEnvTopoMed_Roughness',\n",
    "                   'EarthEnvTopoMed_Slope',\n",
    "                   'SG_Absolute_depth_to_bedrock',\n",
    "                   'WorldClim2_SolarRadiation_AnnualMean',\n",
    "                   'WorldClim2_WindSpeed_AnnualMean',\n",
    "                   'EarthEnvCloudCover_MODCF_interannualSD',\n",
    "                   'EarthEnvCloudCover_MODCF_intraannualSD',\n",
    "                   'EarthEnvCloudCover_MODCF_meanannual',\n",
    "                   'EarthEnvTopoMed_AspectCosine',\n",
    "                   'EarthEnvTopoMed_AspectSine',\n",
    "                   'LandCoverClass_Cultivated_and_Managed_Vegetation',\n",
    "                   'Human_Disturbance',\n",
    "                   'LandCoverClass_Urban_Builtup',\n",
    "                   'Human_Development_Percentage',\n",
    "                   'SG_Clay_Content_0_100cm',\n",
    "                   'SG_Coarse_fragments_0_100cm',\n",
    "                   'SG_Sand_Content_0_100cm',\n",
    "                   'SG_Silt_Content_0_100cm',\n",
    "                   'SG_Soil_pH_H2O_0_100cm',\n",
    "                   'WDPA',\n",
    "                   'cropland',\n",
    "                   'grazing',\n",
    "                   'pasture',\n",
    "                   'rangeland']"
   ]
  },
  {
   "cell_type": "code",
   "execution_count": 4,
   "metadata": {},
   "outputs": [
    {
     "name": "stdout",
     "output_type": "stream",
     "text": [
      "\u001b[1m\u001b[34mNumber of covariates:\n",
      "\u001b[0m ['Aridity_Index', 'CHELSA_Annual_Mean_Temperature', 'CHELSA_Annual_Precipitation', 'CHELSA_Isothermality', 'CHELSA_Max_Temperature_of_Warmest_Month', 'CHELSA_Mean_Diurnal_Range', 'CHELSA_Mean_Temperature_of_Coldest_Quarter', 'CHELSA_Mean_Temperature_of_Driest_Quarter', 'CHELSA_Mean_Temperature_of_Warmest_Quarter', 'CHELSA_Mean_Temperature_of_Wettest_Quarter', 'CHELSA_Min_Temperature_of_Coldest_Month', 'CHELSA_Precipitation_Seasonality', 'CHELSA_Precipitation_of_Coldest_Quarter', 'CHELSA_Precipitation_of_Driest_Month', 'CHELSA_Precipitation_of_Driest_Quarter', 'CHELSA_Precipitation_of_Warmest_Quarter', 'CHELSA_Precipitation_of_Wettest_Month', 'CHELSA_Precipitation_of_Wettest_Quarter', 'CHELSA_Temperature_Annual_Range', 'CHELSA_Temperature_Seasonality', 'Depth_to_Water_Table', 'EarthEnvTopoMed_Eastness', 'EarthEnvTopoMed_Elevation', 'EarthEnvTopoMed_Northness', 'EarthEnvTopoMed_ProfileCurvature', 'EarthEnvTopoMed_Roughness', 'EarthEnvTopoMed_Slope', 'SG_Absolute_depth_to_bedrock', 'WorldClim2_SolarRadiation_AnnualMean', 'WorldClim2_WindSpeed_AnnualMean', 'EarthEnvCloudCover_MODCF_interannualSD', 'EarthEnvCloudCover_MODCF_intraannualSD', 'EarthEnvCloudCover_MODCF_meanannual', 'EarthEnvTopoMed_AspectCosine', 'EarthEnvTopoMed_AspectSine', 'LandCoverClass_Cultivated_and_Managed_Vegetation', 'Human_Disturbance', 'LandCoverClass_Urban_Builtup', 'Human_Development_Percentage', 'SG_Clay_Content_0_100cm', 'SG_Coarse_fragments_0_100cm', 'SG_Sand_Content_0_100cm', 'SG_Silt_Content_0_100cm', 'SG_Soil_pH_H2O_0_100cm', 'WDPA', 'cropland', 'grazing', 'pasture', 'rangeland']\n"
     ]
    }
   ],
   "source": [
    "# Load the composite for root shoot ratio analysis\n",
    "compositeImg = ee.Image(\"users/leonidmoore/ForestBiomass/20200915_Forest_Biomass_Predictors_Image\")\n",
    "compositeImg = compositeImg.select(predictorVector)\n",
    "# define the covariates to use\n",
    "covarsToUse = compositeImg.bandNames()\n",
    "print(colored('Number of covariates:\\n', 'blue', attrs=['bold']),covarsToUse.getInfo())"
   ]
  },
  {
   "cell_type": "markdown",
   "metadata": {},
   "source": [
    "## 3. Prepare train data "
   ]
  },
  {
   "cell_type": "markdown",
   "metadata": {},
   "source": [
    "### 3.1 Load and check the train data"
   ]
  },
  {
   "cell_type": "code",
   "execution_count": 5,
   "metadata": {},
   "outputs": [
    {
     "name": "stdout",
     "output_type": "stream",
     "text": [
      "\u001b[1m\u001b[34mNumber of observations:\u001b[0m 4261\n",
      "\u001b[1m\u001b[34mProperty names:/n\u001b[0m ['random', 'year', 'systemindex', 'CHELSA_Precipitation_of_Driest_Quarter', 'CHELSA_Mean_Temperature_of_Wettest_Quarter', 'LandCoverClass_Urban_Builtup', 'SG_Silt_Content_0_100cm', 'EarthEnvTopoMed_AspectSine', 'rangeland', 'EarthEnvTopoMed_Slope', 'SG_Absolute_depth_to_bedrock', 'SG_Clay_Content_0_100cm', 'cropland', 'CHELSA_Temperature_Seasonality', 'EarthEnvCloudCover_MODCF_meanannual', 'CHELSA_Annual_Mean_Temperature', 'EarthEnvCloudCover_MODCF_interannualSD', 'LandCoverClass_Cultivated_and_Managed_Vegetation', 'EarthEnvTopoMed_Elevation', 'CHELSA_Precipitation_of_Wettest_Month', 'CHELSA_Precipitation_of_Wettest_Quarter', 'index', 'Aridity_Index', 'WorldClim2_WindSpeed_AnnualMean', 'CHELSA_Precipitation_Seasonality', 'SG_Soil_pH_H2O_0_100cm', 'info_coverage', 'EarthEnvTopoMed_Roughness', 'CHELSA_Temperature_Annual_Range', 'Human_Development_Percentage', 'SG_Sand_Content_0_100cm', 'CHELSA_Annual_Precipitation', 'no_plots', 'CHELSA_Precipitation_of_Driest_Month', 'CHELSA_Precipitation_of_Coldest_Quarter', 'SG_Coarse_fragments_0_100cm', 'grazing', 'geo', 'EarthEnvTopoMed_Northness', 'Biome', 'CHELSA_Isothermality', 'WDPA', 'X', 'CHELSA_Max_Temperature_of_Warmest_Month', 'X1', 'CHELSA_Precipitation_of_Warmest_Quarter', 'CHELSA_Mean_Temperature_of_Driest_Quarter', 'pasture', 'EarthEnvTopoMed_AspectCosine', 'leaf_habit', 'CHELSA_Mean_Temperature_of_Coldest_Quarter', 'Human_Disturbance', 'WorldClim2_SolarRadiation_AnnualMean', 'EarthEnvCloudCover_MODCF_intraannualSD', 'EarthEnvTopoMed_Eastness', 'CHELSA_Min_Temperature_of_Coldest_Month', 'CHELSA_Mean_Diurnal_Range', 'Depth_to_Water_Table', 'EarthEnvTopoMed_ProfileCurvature', 'system:index', 'CHELSA_Mean_Temperature_of_Warmest_Quarter']\n"
     ]
    }
   ],
   "source": [
    "# load the train data with covariates\n",
    "leafHabitDataRaw = ee.FeatureCollection('users/haozhima95/forest_pheno/sub_logitmatrix_seed10')\n",
    "# sample the covariates\n",
    "# rawSampled = compositeImg.sampleRegions(leafHabitDataRaw,geometries = True)\n",
    "# add a column in the feature collection and do a random subsample\n",
    "rawSampledWithRandom = leafHabitDataRaw.randomColumn('random', 1000)\n",
    "# get the size of this feature collection\n",
    "totalSize = rawSampledWithRandom.size().getInfo()\n",
    "print(colored('Number of observations:', 'blue', attrs=['bold']),totalSize)\n",
    "print(colored('Property names:/n', 'blue', attrs=['bold']),rawSampledWithRandom.first().propertyNames().getInfo())\n",
    "varToModel = 'leaf_habit'"
   ]
  },
  {
   "cell_type": "markdown",
   "metadata": {},
   "source": [
    "## 4. Spatial cross validation for Leaf habit"
   ]
  },
  {
   "cell_type": "markdown",
   "metadata": {},
   "source": [
    "### 4.1 Run spatial cross validation"
   ]
  },
  {
   "cell_type": "code",
   "execution_count": 6,
   "metadata": {},
   "outputs": [],
   "source": [
    "# Define list contains the buffer sizes to test\n",
    "buffer_sizes = [10,100000,150000,200000,250000,500000,1000000] # 150km,200km,250km\n",
    "\n",
    "# define the core function for spatial cross validation\n",
    "#  Blocked Leave One Out cross-validation function:\n",
    "def BLOOcv(f):\n",
    "    rep = f.get('rep')\n",
    "    # Test feature\n",
    "    testFC = ee.FeatureCollection(f)\n",
    "\n",
    "    # Training set: all samples not within geometry of test feature\n",
    "    trainFC = rawSampledWithRandom.filter(ee.Filter.geometry(testFC).Not())\n",
    "\n",
    "    # Classifier to test\n",
    "    classifier = ee.Classifier.smileRandomForest(\n",
    "        numberOfTrees=500,\n",
    "        variablesPerSplit=20,\n",
    "        minLeafPopulation=1,\n",
    "        bagFraction=0.632,\n",
    "        maxNodes=33554432,\n",
    "        seed = 0).setOutputMode('REGRESSION')\n",
    "    \n",
    "    # define the Train classifier\n",
    "    trainedClassifer = classifier.train(trainFC, varToModel, covarsToUse)\n",
    "    # Apply classifier to the feature collection\n",
    "    classified = testFC.classify(classifier = trainedClassifer,\n",
    "                                 outputName = 'predicted')\n",
    "    # Get predicted value\n",
    "    predicted = classified.first().get('predicted')\n",
    "    # return the predicted value for each feature\n",
    "    return f.set('predicted', predicted).copyProperties(f)"
   ]
  },
  {
   "cell_type": "code",
   "execution_count": 7,
   "metadata": {},
   "outputs": [],
   "source": [
    "# Define the R^2 claculation function\n",
    "def coefficientOfDetermination(fcOI,propertyOfInterest,propertyOfInterest_Predicted):\n",
    "    # Compute the mean of the property of interest\n",
    "    propertyOfInterestMean = ee.Number(ee.Dictionary(ee.FeatureCollection(fcOI).select([propertyOfInterest]).reduceColumns(ee.Reducer.mean(),[propertyOfInterest])).get('mean'));\n",
    "    # Compute the total sum of squares\n",
    "    def totalSoSFunction(f):\n",
    "        return f.set('Difference_Squared',ee.Number(ee.Feature(f).get(propertyOfInterest)).subtract(propertyOfInterestMean).pow(ee.Number(2)))\n",
    "    totalSumOfSquares = ee.Number(ee.Dictionary(ee.FeatureCollection(fcOI).map(totalSoSFunction).select(['Difference_Squared']).reduceColumns(ee.Reducer.sum(),['Difference_Squared'])).get('sum'))\n",
    "    # Compute the residual sum of squares\n",
    "    def residualSoSFunction(f):\n",
    "        return f.set('Residual_Squared',ee.Number(ee.Feature(f).get(propertyOfInterest)).subtract(ee.Number(ee.Feature(f).get(propertyOfInterest_Predicted))).pow(ee.Number(2)))\n",
    "    residualSumOfSquares = ee.Number(ee.Dictionary(ee.FeatureCollection(fcOI).map(residualSoSFunction).select(['Residual_Squared']).reduceColumns(ee.Reducer.sum(),['Residual_Squared'])).get('sum'))\n",
    "    # Finalize the calculation\n",
    "    r2 = ee.Number(1).subtract(residualSumOfSquares.divide(totalSumOfSquares))\n",
    "    return ee.Number(r2)"
   ]
  },
  {
   "cell_type": "code",
   "execution_count": 8,
   "metadata": {},
   "outputs": [],
   "source": [
    "#  define a feature collection to save the calcuation results\n",
    "bloo_cv_fc = ee.FeatureCollection(ee.List(buffer_sizes).map(lambda n: ee.Feature(ee.Geometry.Point([0,0])).set('buffer_size',n)))\n",
    "# define the R2 calc function \n",
    "def calc_final_r2(buffer_feat):\n",
    "    # Add buffer to FC of sampled observations\n",
    "    buffer = buffer_feat.get('buffer_size')\n",
    "\n",
    "    fc_wBuffer = rawSampledWithRandom.map(lambda f: f.buffer(buffer))\n",
    "    # Apply blocked leave one out CV function\n",
    "    predicted = fc_wBuffer.map(BLOOcv)\n",
    "    # Calculate R2 value\n",
    "    R2_val = coefficientOfDetermination(predicted, varToModel, 'predicted')\n",
    "    return(buffer_feat.set('R2_val', R2_val))\n",
    "\n",
    "    ########################\n",
    "    ## Uncomment the lines below to export the predicted/observed data per buffer size\n",
    "    # predObs = predicted.select([varToModel, 'predicted'])\n",
    "    # to_export = predObs.toList(50000).getInfo()\n",
    "    # result = []\n",
    "    # for item in to_export:\n",
    "    #     values = item['properties']\n",
    "    #     row = [str(values[key]) for key in [varToModel, 'predicted']]\n",
    "    #     row = \",\".join(row)\n",
    "    #     result.append(row)\n",
    "    #\n",
    "    # df = pd.DataFrame([item.split(\",\") for item in result], columns = [varToModel, 'predicted'])\n",
    "    # df['buffer_size'] = buffer\n",
    "    # with open('temp/exported_df.csv', 'a') as f:\n",
    "    #     df.to_csv(f, mode='a', header=f.tell()==0)\n",
    "\n",
    "# Calculate R2 across range of R2 values\n",
    "final_fc = bloo_cv_fc.map(calc_final_r2)"
   ]
  },
  {
   "cell_type": "code",
   "execution_count": 9,
   "metadata": {},
   "outputs": [],
   "source": [
    "#  define a feature collection to save the calcuation results\n",
    "bloo_cv_fc = ee.FeatureCollection(ee.List(buffer_sizes).map(lambda n: ee.Feature(ee.Geometry.Point([0,0])).set('buffer_size',n)))\n",
    "# define the R2 calc function \n",
    "def calc_Pred_Obs(buffer_feat):\n",
    "    # Add buffer to FC of sampled observations\n",
    "    buffer = buffer_feat.get('buffer_size')\n",
    "\n",
    "    fc_wBuffer = rawSampledWithRandom.map(lambda f: f.buffer(buffer))\n",
    "    # Apply blocked leave one out CV function\n",
    "    predicted = fc_wBuffer.map(BLOOcv)\n",
    "    # Uncomment the lines below to export the predicted/observed data per buffer size\n",
    "    predObs = predicted.select([varToModel, 'predicted'])\n",
    "    return(predObs)\n",
    "    \n",
    "# Calculate predObs across range of R2 values\n",
    "final_PredObs = bloo_cv_fc.map(calc_Pred_Obs)\n",
    "# define a list to save the index value of the buffer sizes\n",
    "indexSeries = range(0,len(buffer_sizes))\n",
    "for idx in indexSeries:\n",
    "    filteredData = final_PredObs.toList(10000).get(idx)\n",
    "    predObs_export = ee.batch.Export.table.toAsset(\n",
    "        collection = filteredData,\n",
    "        description = varToModel+'bloo_cv_LeafHabit_'+str(buffer_sizes[idx])+'m',\n",
    "        assetId = 'users/leonidmoore/LeafHabitProject/SpatialCV/Spatial_CV_of_LeafHabit_PredObs_'+str(buffer_sizes[idx])+'m')\n",
    "    # start the exportation\n",
    "    predObs_export.start()"
   ]
  },
  {
   "cell_type": "code",
   "execution_count": null,
   "metadata": {},
   "outputs": [],
   "source": []
  }
 ],
 "metadata": {
  "kernelspec": {
   "display_name": "Python 3",
   "language": "python",
   "name": "python3"
  },
  "language_info": {
   "codemirror_mode": {
    "name": "ipython",
    "version": 3
   },
   "file_extension": ".py",
   "mimetype": "text/x-python",
   "name": "python",
   "nbconvert_exporter": "python",
   "pygments_lexer": "ipython3",
   "version": "3.8.5"
  }
 },
 "nbformat": 4,
 "nbformat_minor": 4
}
